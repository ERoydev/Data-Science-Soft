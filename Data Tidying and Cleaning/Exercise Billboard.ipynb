{
 "cells": [
  {
   "cell_type": "code",
   "execution_count": 5,
   "id": "646ecb35-74eb-4ec0-8eea-0a8239ff32a5",
   "metadata": {},
   "outputs": [],
   "source": [
    "%matplotlib inline"
   ]
  },
  {
   "cell_type": "code",
   "execution_count": 107,
   "id": "41808d1f-2ded-4b50-ab64-51f6174c95ae",
   "metadata": {},
   "outputs": [],
   "source": [
    "import numpy as np\n",
    "import pandas as pd\n",
    "import matplotlib.pyplot as plt"
   ]
  },
  {
   "cell_type": "code",
   "execution_count": 245,
   "id": "558b0010-b10a-4ba7-b825-5ae4c5722006",
   "metadata": {},
   "outputs": [],
   "source": [
    "billboard_data = pd.read_csv(\"data/billboard.csv\")\n",
    "# The Questions is on which place the song is on the billboard for the weeks to 75 weeks"
   ]
  },
  {
   "cell_type": "code",
   "execution_count": 247,
   "id": "499a1eb1-e853-420c-815b-8189cb0b4136",
   "metadata": {},
   "outputs": [],
   "source": [
    "# I convert all (wk1, wk2, wk3) columns under one column which represents week and value for placement\n",
    "\n",
    "billboard_data = billboard_data.melt(\n",
    "    id_vars=[\"year\", \"artist\", \"track\", \"time\", \"date.entered\"],\n",
    "    var_name=\"week\",\n",
    "    value_name=\"placement\"\n",
    ")"
   ]
  },
  {
   "cell_type": "code",
   "execution_count": 249,
   "id": "85ffd006-f4c5-495e-89e5-fa0d8cab4c7d",
   "metadata": {},
   "outputs": [],
   "source": [
    "# I rename the ugly Column Header to normal format to make working with it more easy\n",
    "\n",
    "billboard_data = billboard_data.rename(columns={'date.entered': 'date_entered'})"
   ]
  },
  {
   "cell_type": "code",
   "execution_count": 251,
   "id": "826c1be3-edf1-44af-a7c1-f6e304142cdd",
   "metadata": {},
   "outputs": [],
   "source": [
    "# I format the week returning only the integer because week is already one Column with header specifying it is week\n",
    "\n",
    "def format_week(week_string):\n",
    "    return week_string[2:]\n",
    "    \n",
    "billboard_data.week = billboard_data.week.str.slice(2).astype('int64') # And i convert it into int64 type"
   ]
  },
  {
   "cell_type": "code",
   "execution_count": 253,
   "id": "02cd8f89-1896-41c4-8fae-159d0b101008",
   "metadata": {},
   "outputs": [],
   "source": [
    "# Remove the NaN Fields from all columns by default\n",
    "billboard_data = billboard_data.dropna()"
   ]
  },
  {
   "cell_type": "code",
   "execution_count": 255,
   "id": "608e7b41-8c93-4578-9336-c85c79061f1b",
   "metadata": {},
   "outputs": [],
   "source": [
    "# Convert the object dt into `pandas datetime object`\n",
    "# This later gives me opportunity to make operations like `>`, `<` `==` ...\n",
    "\n",
    "billboard_data.date_entered = billboard_data.date_entered.apply(lambda x: pd.to_datetime(x))"
   ]
  },
  {
   "cell_type": "code",
   "execution_count": 256,
   "id": "4a45d5e4-d10c-4089-ae67-49de94a75f94",
   "metadata": {},
   "outputs": [],
   "source": [
    "# Convert into integer(whole number), because placement cannot be float\n",
    "\n",
    "billboard_data['placement'] = billboard_data.placement.astype('int64')"
   ]
  },
  {
   "cell_type": "code",
   "execution_count": 257,
   "id": "70f44479-acd9-4e3a-bef3-6cdd491a143e",
   "metadata": {},
   "outputs": [],
   "source": [
    "# Convert time into seconds\n",
    "def turn_time_into_seconds(time):\n",
    "    minutes, seconds = [int(x) for x in time.split(\":\")]\n",
    "    minutes *= 60\n",
    "    seconds += minutes\n",
    "    return seconds\n",
    "\n",
    "billboard_data['time'] = billboard_data.time.apply(turn_time_into_seconds)"
   ]
  },
  {
   "cell_type": "code",
   "execution_count": 275,
   "id": "06511d1d-ee47-4985-883b-c607f0309525",
   "metadata": {},
   "outputs": [],
   "source": [
    "billboard_data = billboard_data.rename(columns={'time': 'seconds'})"
   ]
  },
  {
   "cell_type": "code",
   "execution_count": 279,
   "id": "721a3ed2-ad20-4d9a-a333-70ff6ed387a0",
   "metadata": {},
   "outputs": [
    {
     "data": {
      "text/plain": [
       "Timedelta('14 days 00:00:00')"
      ]
     },
     "execution_count": 279,
     "metadata": {},
     "output_type": "execute_result"
    }
   ],
   "source": [
    "pd.Timedelta(2, 'w')"
   ]
  },
  {
   "cell_type": "code",
   "execution_count": 297,
   "id": "bcdb95ab-036c-40a6-ac6f-d1a913cb1dc9",
   "metadata": {},
   "outputs": [],
   "source": [
    "# I calculate the date of recieveing placement since i know the date released of the track\n",
    "intervals = billboard_data.week.apply(lambda x: pd.Timedelta(x, \"w\"))\n",
    "# I simply get for every week days according (1w == 7days, 2w == 14days)\n",
    "\n",
    "# I calcucate the day of recieving th placement here\n",
    "billboard_data['date'] = billboard_data['date_entered'] + intervals\n",
    "\n",
    "# I drop these columns since i dont need them anymore\n",
    "billboard_data = billboard_data.drop(columns=['date_entered', 'week'])"
   ]
  },
  {
   "cell_type": "code",
   "execution_count": 299,
   "id": "a9d9b95b-1bac-4f42-9276-0caed72c02eb",
   "metadata": {},
   "outputs": [
    {
     "data": {
      "text/html": [
       "<div>\n",
       "<style scoped>\n",
       "    .dataframe tbody tr th:only-of-type {\n",
       "        vertical-align: middle;\n",
       "    }\n",
       "\n",
       "    .dataframe tbody tr th {\n",
       "        vertical-align: top;\n",
       "    }\n",
       "\n",
       "    .dataframe thead th {\n",
       "        text-align: right;\n",
       "    }\n",
       "</style>\n",
       "<table border=\"1\" class=\"dataframe\">\n",
       "  <thead>\n",
       "    <tr style=\"text-align: right;\">\n",
       "      <th></th>\n",
       "      <th>year</th>\n",
       "      <th>artist</th>\n",
       "      <th>track</th>\n",
       "      <th>seconds</th>\n",
       "      <th>placement</th>\n",
       "      <th>date</th>\n",
       "    </tr>\n",
       "  </thead>\n",
       "  <tbody>\n",
       "    <tr>\n",
       "      <th>0</th>\n",
       "      <td>2000</td>\n",
       "      <td>2 Pac</td>\n",
       "      <td>Baby Don't Cry (Keep...</td>\n",
       "      <td>262</td>\n",
       "      <td>87</td>\n",
       "      <td>2000-03-04</td>\n",
       "    </tr>\n",
       "    <tr>\n",
       "      <th>1</th>\n",
       "      <td>2000</td>\n",
       "      <td>2Ge+her</td>\n",
       "      <td>The Hardest Part Of ...</td>\n",
       "      <td>195</td>\n",
       "      <td>91</td>\n",
       "      <td>2000-09-09</td>\n",
       "    </tr>\n",
       "    <tr>\n",
       "      <th>2</th>\n",
       "      <td>2000</td>\n",
       "      <td>3 Doors Down</td>\n",
       "      <td>Kryptonite</td>\n",
       "      <td>233</td>\n",
       "      <td>81</td>\n",
       "      <td>2000-04-15</td>\n",
       "    </tr>\n",
       "    <tr>\n",
       "      <th>3</th>\n",
       "      <td>2000</td>\n",
       "      <td>3 Doors Down</td>\n",
       "      <td>Loser</td>\n",
       "      <td>264</td>\n",
       "      <td>76</td>\n",
       "      <td>2000-10-28</td>\n",
       "    </tr>\n",
       "    <tr>\n",
       "      <th>4</th>\n",
       "      <td>2000</td>\n",
       "      <td>504 Boyz</td>\n",
       "      <td>Wobble Wobble</td>\n",
       "      <td>215</td>\n",
       "      <td>57</td>\n",
       "      <td>2000-04-22</td>\n",
       "    </tr>\n",
       "    <tr>\n",
       "      <th>...</th>\n",
       "      <td>...</td>\n",
       "      <td>...</td>\n",
       "      <td>...</td>\n",
       "      <td>...</td>\n",
       "      <td>...</td>\n",
       "      <td>...</td>\n",
       "    </tr>\n",
       "    <tr>\n",
       "      <th>19716</th>\n",
       "      <td>2000</td>\n",
       "      <td>Creed</td>\n",
       "      <td>Higher</td>\n",
       "      <td>316</td>\n",
       "      <td>50</td>\n",
       "      <td>2000-11-25</td>\n",
       "    </tr>\n",
       "    <tr>\n",
       "      <th>19833</th>\n",
       "      <td>2000</td>\n",
       "      <td>Lonestar</td>\n",
       "      <td>Amazed</td>\n",
       "      <td>265</td>\n",
       "      <td>45</td>\n",
       "      <td>2000-08-19</td>\n",
       "    </tr>\n",
       "    <tr>\n",
       "      <th>20033</th>\n",
       "      <td>2000</td>\n",
       "      <td>Creed</td>\n",
       "      <td>Higher</td>\n",
       "      <td>316</td>\n",
       "      <td>50</td>\n",
       "      <td>2000-12-02</td>\n",
       "    </tr>\n",
       "    <tr>\n",
       "      <th>20150</th>\n",
       "      <td>2000</td>\n",
       "      <td>Lonestar</td>\n",
       "      <td>Amazed</td>\n",
       "      <td>265</td>\n",
       "      <td>50</td>\n",
       "      <td>2000-08-26</td>\n",
       "    </tr>\n",
       "    <tr>\n",
       "      <th>20350</th>\n",
       "      <td>2000</td>\n",
       "      <td>Creed</td>\n",
       "      <td>Higher</td>\n",
       "      <td>316</td>\n",
       "      <td>49</td>\n",
       "      <td>2000-12-09</td>\n",
       "    </tr>\n",
       "  </tbody>\n",
       "</table>\n",
       "<p>5307 rows × 6 columns</p>\n",
       "</div>"
      ],
      "text/plain": [
       "       year        artist                    track  seconds  placement  \\\n",
       "0      2000         2 Pac  Baby Don't Cry (Keep...      262         87   \n",
       "1      2000       2Ge+her  The Hardest Part Of ...      195         91   \n",
       "2      2000  3 Doors Down               Kryptonite      233         81   \n",
       "3      2000  3 Doors Down                    Loser      264         76   \n",
       "4      2000      504 Boyz            Wobble Wobble      215         57   \n",
       "...     ...           ...                      ...      ...        ...   \n",
       "19716  2000         Creed                   Higher      316         50   \n",
       "19833  2000      Lonestar                   Amazed      265         45   \n",
       "20033  2000         Creed                   Higher      316         50   \n",
       "20150  2000      Lonestar                   Amazed      265         50   \n",
       "20350  2000         Creed                   Higher      316         49   \n",
       "\n",
       "            date  \n",
       "0     2000-03-04  \n",
       "1     2000-09-09  \n",
       "2     2000-04-15  \n",
       "3     2000-10-28  \n",
       "4     2000-04-22  \n",
       "...          ...  \n",
       "19716 2000-11-25  \n",
       "19833 2000-08-19  \n",
       "20033 2000-12-02  \n",
       "20150 2000-08-26  \n",
       "20350 2000-12-09  \n",
       "\n",
       "[5307 rows x 6 columns]"
      ]
     },
     "execution_count": 299,
     "metadata": {},
     "output_type": "execute_result"
    }
   ],
   "source": [
    "billboard_data"
   ]
  },
  {
   "cell_type": "code",
   "execution_count": null,
   "id": "255e503b-1246-4617-9717-ce1342bae588",
   "metadata": {},
   "outputs": [],
   "source": [
    "# Bih mogul da otdelq year, artist, track v otdelni tablici i da gi svurja s id-ta poneje ima povtoreniq"
   ]
  }
 ],
 "metadata": {
  "kernelspec": {
   "display_name": "Python [conda env:base] *",
   "language": "python",
   "name": "conda-base-py"
  },
  "language_info": {
   "codemirror_mode": {
    "name": "ipython",
    "version": 3
   },
   "file_extension": ".py",
   "mimetype": "text/x-python",
   "name": "python",
   "nbconvert_exporter": "python",
   "pygments_lexer": "ipython3",
   "version": "3.12.7"
  }
 },
 "nbformat": 4,
 "nbformat_minor": 5
}
